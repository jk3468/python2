{
 "cells": [
  {
   "cell_type": "code",
   "execution_count": null,
   "id": "8b8219b9",
   "metadata": {},
   "outputs": [],
   "source": [
    "num=[1,2.5,3,4.5,5]\n",
    "num"
   ]
  },
  {
   "cell_type": "code",
   "execution_count": null,
   "id": "667e633a",
   "metadata": {},
   "outputs": [],
   "source": [
    "names=[\"janardhan\",\"rakesh\",\"rakshith\"]\n",
    "# print(names[0])\n",
    "print(names[1])"
   ]
  },
  {
   "cell_type": "code",
   "execution_count": null,
   "id": "12cf5572",
   "metadata": {},
   "outputs": [],
   "source": [
    "names=[[\"janardhan\"] [\"rakesh\"]]\n",
    "print(names[0])"
   ]
  },
  {
   "cell_type": "code",
   "execution_count": null,
   "id": "603c4d4f",
   "metadata": {},
   "outputs": [],
   "source": [
    "color_list=[\"red\",\"green\",\"yellow\"]\n",
    "print(color_list)"
   ]
  },
  {
   "cell_type": "code",
   "execution_count": null,
   "id": "51a434ec",
   "metadata": {},
   "outputs": [],
   "source": [
    "color_list[0]=\"orange\"\n",
    "print(color_list)"
   ]
  },
  {
   "cell_type": "code",
   "execution_count": null,
   "id": "34e66289",
   "metadata": {},
   "outputs": [],
   "source": [
    "color_list.append(\"red\")\n",
    "print(color_list)"
   ]
  },
  {
   "cell_type": "code",
   "execution_count": null,
   "id": "748e55cc",
   "metadata": {},
   "outputs": [],
   "source": [
    "color_list.append(\"red\")\n",
    "print(color_list)"
   ]
  },
  {
   "cell_type": "code",
   "execution_count": null,
   "id": "7d03b59c",
   "metadata": {},
   "outputs": [],
   "source": [
    "color_list"
   ]
  },
  {
   "cell_type": "code",
   "execution_count": null,
   "id": "9dbfb8ae",
   "metadata": {},
   "outputs": [],
   "source": [
    "name=[\"janardhan\",\"rakesh\",\"rakshith\"]\n",
    "print(name)"
   ]
  },
  {
   "cell_type": "code",
   "execution_count": null,
   "id": "42a09219",
   "metadata": {},
   "outputs": [],
   "source": [
    "name.append(\"srinivas\")\n",
    "print(name)"
   ]
  },
  {
   "cell_type": "code",
   "execution_count": null,
   "id": "b22fbbf5",
   "metadata": {},
   "outputs": [],
   "source": [
    "name.insert(2,\"hyderabad\")\n",
    "print(name)"
   ]
  },
  {
   "cell_type": "code",
   "execution_count": null,
   "id": "a2dd6096",
   "metadata": {},
   "outputs": [],
   "source": [
    "name.pop(1)"
   ]
  },
  {
   "cell_type": "code",
   "execution_count": null,
   "id": "7c4f628e",
   "metadata": {},
   "outputs": [],
   "source": [
    "name.insert(0,\"rakesh\")\n",
    "print(name)"
   ]
  },
  {
   "cell_type": "code",
   "execution_count": null,
   "id": "97239ea4",
   "metadata": {},
   "outputs": [],
   "source": [
    "name.pop(2)\n"
   ]
  },
  {
   "cell_type": "code",
   "execution_count": null,
   "id": "b8a1aaba",
   "metadata": {},
   "outputs": [],
   "source": [
    "name"
   ]
  },
  {
   "cell_type": "code",
   "execution_count": null,
   "id": "c5d16380",
   "metadata": {},
   "outputs": [],
   "source": [
    "name.sort()\n",
    "print(name)"
   ]
  },
  {
   "cell_type": "code",
   "execution_count": null,
   "id": "668ee28a",
   "metadata": {},
   "outputs": [],
   "source": [
    "name.count()\n",
    "print(name)"
   ]
  },
  {
   "cell_type": "code",
   "execution_count": null,
   "id": "d46f0ce1",
   "metadata": {},
   "outputs": [],
   "source": [
    "print(name)"
   ]
  },
  {
   "cell_type": "code",
   "execution_count": null,
   "id": "2afaf4f3",
   "metadata": {},
   "outputs": [],
   "source": [
    "name.insert(3,\"hyderabad\")\n",
    "print(name)"
   ]
  },
  {
   "cell_type": "code",
   "execution_count": null,
   "id": "d1e230af",
   "metadata": {},
   "outputs": [],
   "source": [
    "name.pop(3)\n"
   ]
  },
  {
   "cell_type": "code",
   "execution_count": null,
   "id": "f9b31f63",
   "metadata": {},
   "outputs": [],
   "source": [
    "name"
   ]
  },
  {
   "cell_type": "code",
   "execution_count": null,
   "id": "2c42fd23",
   "metadata": {},
   "outputs": [],
   "source": [
    "print(name[:2])"
   ]
  },
  {
   "cell_type": "code",
   "execution_count": null,
   "id": "7f9f848c",
   "metadata": {},
   "outputs": [],
   "source": [
    "name.append(\"hyderabad\")\n",
    "print(name)"
   ]
  },
  {
   "cell_type": "code",
   "execution_count": null,
   "id": "b7410511",
   "metadata": {},
   "outputs": [],
   "source": [
    "name.remove(\"hyderabad\")\n",
    "print(name)"
   ]
  },
  {
   "cell_type": "code",
   "execution_count": null,
   "id": "f849c566",
   "metadata": {},
   "outputs": [],
   "source": [
    "name.remove(\"hyderabad\")\n",
    "print(name)"
   ]
  },
  {
   "cell_type": "code",
   "execution_count": null,
   "id": "80374f48",
   "metadata": {},
   "outputs": [],
   "source": [
    "name\n"
   ]
  },
  {
   "cell_type": "code",
   "execution_count": null,
   "id": "01c92693",
   "metadata": {},
   "outputs": [],
   "source": [
    "name.insert(2,\"hyderabad\")\n",
    "print(name)"
   ]
  },
  {
   "cell_type": "code",
   "execution_count": null,
   "id": "2c69737c",
   "metadata": {},
   "outputs": [],
   "source": [
    "name.remove(\"hyderabad\")\n",
    "print(name)"
   ]
  },
  {
   "cell_type": "code",
   "execution_count": null,
   "id": "d1e844e9",
   "metadata": {},
   "outputs": [],
   "source": [
    "\n",
    "mul=1\n",
    "for i in range items:\n",
    "    mul*=1\n",
    "    print(i[1,2,3])\n",
    "    \n",
    "    "
   ]
  },
  {
   "cell_type": "code",
   "execution_count": null,
   "id": "034f39d7",
   "metadata": {},
   "outputs": [],
   "source": [
    "num1=int(input(\"enter the number\"))\n",
    "num2=int(input(\"enter the number\"))\n",
    "count=0\n",
    "add=1\n",
    "for i in range(num1,num2+1,1):\n",
    "    if i%7==0 and i%5!=0:\n",
    "        add+=i\n",
    "        count+=1\n",
    "print(add)"
   ]
  },
  {
   "cell_type": "code",
   "execution_count": null,
   "id": "fff48320",
   "metadata": {},
   "outputs": [],
   "source": [
    "a=[1,2,3,4,5,6,7,8,9]\n",
    "print(a)\n",
    "num=int(input(\"enter the number\"))\n",
    "position=int(input(\"enter the position\"))\n",
    "a.remove(position,num)\n",
    "print(a)"
   ]
  },
  {
   "cell_type": "code",
   "execution_count": null,
   "id": "95bf54cc",
   "metadata": {},
   "outputs": [],
   "source": [
    "num=[1,2,3,4,5,6]\n",
    "for i in range :\n",
    "    print(i)\n",
    "    \n",
    "    "
   ]
  },
  {
   "cell_type": "code",
   "execution_count": null,
   "id": "f73e1d82",
   "metadata": {},
   "outputs": [],
   "source": [
    "my_list=[10,20,30,20,10,30,40]\n",
    "print(my_list)\n",
    "my_set=set(my_list)\n",
    "my_new_list=list(my_set)\n",
    "print(my_set)\n",
    "my_set.sort()\n",
    "print(my_set)\n"
   ]
  },
  {
   "cell_type": "code",
   "execution_count": null,
   "id": "839fcb6a",
   "metadata": {},
   "outputs": [],
   "source": [
    "list1=[10,20,30,40,20,30,40]\n",
    "print(list1)\n",
    "new_list=set(list1)\n",
    "my_new_list=list(new_list)\n",
    "print(my_new_list)\n",
    "my_new_list.sort()\n",
    "print(my_new_list)\n",
    "\n"
   ]
  },
  {
   "cell_type": "code",
   "execution_count": null,
   "id": "11bc073c",
   "metadata": {},
   "outputs": [],
   "source": [
    "m=int(input(\"enter the marks\"))\n",
    "n=input(\"enter the name\")\n",
    "name=[]\n",
    "marks=[]\n",
    "for i in range(5):\n",
    "    name.append(n)\n",
    "    marks.append(m)\n",
    "h=max(marks)\n",
    "l=min(marks)\n",
    "print(h)\n",
    "print(l)\n"
   ]
  },
  {
   "cell_type": "code",
   "execution_count": null,
   "id": "883002eb",
   "metadata": {
    "scrolled": true
   },
   "outputs": [],
   "source": [
    "name=[]\n",
    "marks=[]\n",
    "for i in range(5):\n",
    "    m=int(input(\"enter the marks\"))\n",
    "    n=input(\"enter the name\")\n",
    "    name.append(n)\n",
    "    marks.append(m)\n",
    "h=max(marks)\n",
    "l=min(marks)\n",
    "print(h)\n",
    "print(l)\n",
    "\n"
   ]
  },
  {
   "cell_type": "code",
   "execution_count": null,
   "id": "6b6741da",
   "metadata": {},
   "outputs": [],
   "source": [
    "name=[1,2,3,4,5]\n",
    "for i in range name\n",
    "    name.append(n)\n",
    "print(name)\n",
    "name.sort()\n",
    "print(name)\n",
    "name.remove(\"hyderbad\")\n",
    "print(name)\n",
    "    "
   ]
  },
  {
   "cell_type": "code",
   "execution_count": null,
   "id": "3ed14de2",
   "metadata": {},
   "outputs": [],
   "source": [
    "name=[]\n",
    "marks=[]\n",
    "for i in range(5):\n",
    "    n=input(\"enter the name\")\n",
    "    m=int(input(\"enter the number\"))\n",
    "    name.append(n)\n",
    "    marks.append(m)\n",
    "h=max(marks)\n",
    "l=min(marks)\n",
    "print(h)\n",
    "print(l)\n",
    "for i in range(5):\n",
    "    if h==marks[i]:\n",
    "        print(name[i])\n",
    "    if l==marks[i]:\n",
    "        print(name[i])"
   ]
  },
  {
   "cell_type": "raw",
   "id": "38fb007e",
   "metadata": {},
   "source": []
  },
  {
   "cell_type": "code",
   "execution_count": null,
   "id": "c730b9db",
   "metadata": {},
   "outputs": [],
   "source": []
  },
  {
   "cell_type": "code",
   "execution_count": 2,
   "id": "4216a5f8",
   "metadata": {},
   "outputs": [
    {
     "name": "stdout",
     "output_type": "stream",
     "text": [
      "[1, 2, 3, 0, 'red', 'green', 'orange']\n"
     ]
    }
   ],
   "source": [
    "#write a program to append the list 1 to list2\n",
    "list1=[1,2,3,0]\n",
    "list2=[\"red\",\"green\",\"orange\"]\n",
    "final_list=list1+list2\n",
    "print(final_list)"
   ]
  },
  {
   "cell_type": "code",
   "execution_count": 3,
   "id": "69f191db",
   "metadata": {},
   "outputs": [
    {
     "name": "stdout",
     "output_type": "stream",
     "text": [
      "[1, 2, 3, 0, 'red', 'green', 'orange', 'pulpy']\n"
     ]
    }
   ],
   "source": [
    "final_list.append(\"pulpy\")\n",
    "print(final_list)"
   ]
  },
  {
   "cell_type": "code",
   "execution_count": 5,
   "id": "f03b1dd8",
   "metadata": {},
   "outputs": [
    {
     "name": "stdout",
     "output_type": "stream",
     "text": [
      "{'red', 'yellow'}\n"
     ]
    }
   ],
   "source": [
    "#write a find to common in tables\n",
    "color1=\"red\",\"green\",\"orenge\",\"yellow\"\n",
    "color2=\"red\",\"white\",\"yellow\",\"cyan\"\n",
    "print(set(color1)&set(color2))"
   ]
  },
  {
   "cell_type": "code",
   "execution_count": 11,
   "id": "9feb567e",
   "metadata": {},
   "outputs": [
    {
     "ename": "IndentationError",
     "evalue": "unexpected indent (260710271.py, line 2)",
     "output_type": "error",
     "traceback": [
      "\u001b[1;36m  Input \u001b[1;32mIn [11]\u001b[1;36m\u001b[0m\n\u001b[1;33m    \"a\" in  name\u001b[0m\n\u001b[1;37m    ^\u001b[0m\n\u001b[1;31mIndentationError\u001b[0m\u001b[1;31m:\u001b[0m unexpected indent\n"
     ]
    }
   ],
   "source": [
    "name=\"janardhan\"\n",
    " \"a\" in  name"
   ]
  },
  {
   "cell_type": "code",
   "execution_count": 14,
   "id": "164cab7e",
   "metadata": {},
   "outputs": [
    {
     "data": {
      "text/plain": [
       "True"
      ]
     },
     "execution_count": 14,
     "metadata": {},
     "output_type": "execute_result"
    }
   ],
   "source": [
    "name=\"rakesh\"\n",
    "'a' in name"
   ]
  },
  {
   "cell_type": "code",
   "execution_count": 15,
   "id": "10670b38",
   "metadata": {},
   "outputs": [
    {
     "data": {
      "text/plain": [
       "'a'"
      ]
     },
     "execution_count": 15,
     "metadata": {},
     "output_type": "execute_result"
    }
   ],
   "source": [
    "min(\"rakesh\")"
   ]
  },
  {
   "cell_type": "code",
   "execution_count": 16,
   "id": "4153ab60",
   "metadata": {},
   "outputs": [
    {
     "data": {
      "text/plain": [
       "'s'"
      ]
     },
     "execution_count": 16,
     "metadata": {},
     "output_type": "execute_result"
    }
   ],
   "source": [
    "max(\"rakesh\")"
   ]
  },
  {
   "cell_type": "code",
   "execution_count": 17,
   "id": "7709f3b6",
   "metadata": {},
   "outputs": [],
   "source": [
    "name1=\" janardhan\"\n"
   ]
  },
  {
   "cell_type": "code",
   "execution_count": 19,
   "id": "fa6ef4f3",
   "metadata": {},
   "outputs": [
    {
     "name": "stdout",
     "output_type": "stream",
     "text": [
      "rakesh janardhan\n"
     ]
    }
   ],
   "source": [
    "name2=name+name1\n",
    "print(name2)"
   ]
  },
  {
   "cell_type": "code",
   "execution_count": 20,
   "id": "9b4d7e14",
   "metadata": {},
   "outputs": [
    {
     "data": {
      "text/plain": [
       "{' ', 'a', 'd', 'e', 'h', 'j', 'k', 'n', 'r', 's'}"
      ]
     },
     "execution_count": 20,
     "metadata": {},
     "output_type": "execute_result"
    }
   ],
   "source": [
    "set(name2)"
   ]
  },
  {
   "cell_type": "code",
   "execution_count": 25,
   "id": "7dfe622d",
   "metadata": {},
   "outputs": [],
   "source": [
    "list=[1,1,2]\n",
    "list3=[\"hello\",1,2]\n"
   ]
  },
  {
   "cell_type": "code",
   "execution_count": 28,
   "id": "3c779bdb",
   "metadata": {},
   "outputs": [
    {
     "name": "stdout",
     "output_type": "stream",
     "text": [
      "[1, 1, 2, 'red', 'green', 'orange', 'hello', 1, 2]\n"
     ]
    }
   ],
   "source": [
    "final=list+list2+list3\n",
    "print(final)"
   ]
  },
  {
   "cell_type": "code",
   "execution_count": 30,
   "id": "0928d0a6",
   "metadata": {},
   "outputs": [
    {
     "name": "stdout",
     "output_type": "stream",
     "text": [
      "[1, 1, 2, 'red', 'green', 'orange', 'hello', 1, 2, 'hero', 'hero']\n"
     ]
    }
   ],
   "source": [
    "final.append(\"hero\")\n",
    "print(final)"
   ]
  },
  {
   "cell_type": "code",
   "execution_count": 31,
   "id": "5dbc6f51",
   "metadata": {},
   "outputs": [
    {
     "data": {
      "text/plain": [
       "'hero'"
      ]
     },
     "execution_count": 31,
     "metadata": {},
     "output_type": "execute_result"
    }
   ],
   "source": [
    "final.pop()"
   ]
  },
  {
   "cell_type": "code",
   "execution_count": 32,
   "id": "156b5d51",
   "metadata": {},
   "outputs": [
    {
     "data": {
      "text/plain": [
       "[1, 1, 2, 'red', 'green', 'orange', 'hello', 1, 2, 'hero']"
      ]
     },
     "execution_count": 32,
     "metadata": {},
     "output_type": "execute_result"
    }
   ],
   "source": [
    "final\n"
   ]
  },
  {
   "cell_type": "code",
   "execution_count": 34,
   "id": "43f7d9cd",
   "metadata": {},
   "outputs": [
    {
     "data": {
      "text/plain": [
       "1"
      ]
     },
     "execution_count": 34,
     "metadata": {},
     "output_type": "execute_result"
    }
   ],
   "source": [
    "min(list)"
   ]
  },
  {
   "cell_type": "code",
   "execution_count": 35,
   "id": "5da5d70a",
   "metadata": {},
   "outputs": [
    {
     "data": {
      "text/plain": [
       "2"
      ]
     },
     "execution_count": 35,
     "metadata": {},
     "output_type": "execute_result"
    }
   ],
   "source": [
    "max(list)"
   ]
  },
  {
   "cell_type": "code",
   "execution_count": 36,
   "id": "3a6386e1",
   "metadata": {},
   "outputs": [
    {
     "data": {
      "text/plain": [
       "4"
      ]
     },
     "execution_count": 36,
     "metadata": {},
     "output_type": "execute_result"
    }
   ],
   "source": [
    "sum(list)"
   ]
  },
  {
   "cell_type": "code",
   "execution_count": 37,
   "id": "f711d32e",
   "metadata": {},
   "outputs": [],
   "source": [
    "tuple=(1,4,5,6,7,8)"
   ]
  },
  {
   "cell_type": "code",
   "execution_count": 38,
   "id": "e3948c82",
   "metadata": {},
   "outputs": [
    {
     "data": {
      "text/plain": [
       "31"
      ]
     },
     "execution_count": 38,
     "metadata": {},
     "output_type": "execute_result"
    }
   ],
   "source": [
    "sum(tuple)"
   ]
  },
  {
   "cell_type": "code",
   "execution_count": 1,
   "id": "ab7961a7",
   "metadata": {},
   "outputs": [
    {
     "name": "stdout",
     "output_type": "stream",
     "text": [
      "ac\n"
     ]
    }
   ],
   "source": [
    "a=[\"a\",\"b\",\"c\"]\n",
    "string=a[0]+a[len(a)-1]\n",
    "print(string)"
   ]
  },
  {
   "cell_type": "markdown",
   "id": "62f724c4",
   "metadata": {},
   "source": [
    "# traversing in list"
   ]
  },
  {
   "cell_type": "code",
   "execution_count": 3,
   "id": "fc8f8497",
   "metadata": {},
   "outputs": [
    {
     "name": "stdout",
     "output_type": "stream",
     "text": [
      "1\n",
      "2\n",
      "3\n",
      "4\n",
      "5\n",
      "6\n",
      "7\n",
      "8\n",
      "9\n"
     ]
    }
   ],
   "source": [
    "a=[1,2,3,4,5,6,7,8,9]\n",
    "for i in range(len(a)):\n",
    "    print(a[i])"
   ]
  },
  {
   "cell_type": "code",
   "execution_count": 4,
   "id": "3789d940",
   "metadata": {},
   "outputs": [
    {
     "name": "stdout",
     "output_type": "stream",
     "text": [
      "1\n",
      "2\n",
      "3\n",
      "4\n",
      "5\n",
      "6\n",
      "7\n",
      "8\n",
      "9\n"
     ]
    }
   ],
   "source": [
    "a=[1,2,3,4,5,6,7,8,9]\n",
    "for num in a:\n",
    "    print(num)"
   ]
  },
  {
   "cell_type": "code",
   "execution_count": 13,
   "id": "f145b108",
   "metadata": {},
   "outputs": [
    {
     "name": "stdout",
     "output_type": "stream",
     "text": [
      "0 1\n",
      "1 2\n",
      "2 3\n",
      "3 4\n",
      "4 5\n",
      "5 6\n",
      "6 7\n",
      "7 8\n",
      "8 9\n"
     ]
    }
   ],
   "source": [
    "a=[1,2,3,4,5,6,7,8,9]\n",
    "for i,j in enumerate(a):\n",
    "    print(i,j)\n"
   ]
  },
  {
   "cell_type": "code",
   "execution_count": 15,
   "id": "dd7ca09d",
   "metadata": {},
   "outputs": [
    {
     "name": "stdout",
     "output_type": "stream",
     "text": [
      "[2, 1, 4, 3, 6, 5, 8, 7, 10]\n"
     ]
    }
   ],
   "source": [
    "a=[1,2,3,4,5,6,7,8,9]\n",
    "for i,num in enumerate(a):\n",
    "    if i%2==0:\n",
    "        a[i]+=1\n",
    "    else:\n",
    "        a[i]-=1       # i is index value\n",
    "print(a)"
   ]
  },
  {
   "cell_type": "code",
   "execution_count": 16,
   "id": "cae87117",
   "metadata": {},
   "outputs": [
    {
     "name": "stdout",
     "output_type": "stream",
     "text": [
      "45\n"
     ]
    }
   ],
   "source": [
    "a=[1,2,3,4,5,6,7,8,9]\n",
    "add=0\n",
    "for num in a:\n",
    "    add+=num\n",
    "print(add)"
   ]
  },
  {
   "cell_type": "code",
   "execution_count": 17,
   "id": "d166b92f",
   "metadata": {},
   "outputs": [
    {
     "name": "stdout",
     "output_type": "stream",
     "text": [
      "45\n"
     ]
    }
   ],
   "source": [
    "a=[1,2,3,4,5,6,7,8,9]\n",
    "print(sum(a))"
   ]
  },
  {
   "cell_type": "code",
   "execution_count": 19,
   "id": "5b30f392",
   "metadata": {},
   "outputs": [
    {
     "name": "stdout",
     "output_type": "stream",
     "text": [
      "362880\n"
     ]
    }
   ],
   "source": [
    "a=[1,2,3,4,5,6,7,8,9]\n",
    "mul=1\n",
    "for num in a:\n",
    "    mul*=num\n",
    "print(mul)"
   ]
  },
  {
   "cell_type": "code",
   "execution_count": 21,
   "id": "7e3ef781",
   "metadata": {},
   "outputs": [
    {
     "name": "stdout",
     "output_type": "stream",
     "text": [
      "9\n"
     ]
    }
   ],
   "source": [
    "a=[1,2,3,4,5,6,7,8,9]\n",
    "maximum=a[0]\n",
    "for num in a:\n",
    "    if num>maximum:\n",
    "        maximum=num\n",
    "print(maximum)\n",
    "    "
   ]
  },
  {
   "cell_type": "code",
   "execution_count": 22,
   "id": "15b894f6",
   "metadata": {},
   "outputs": [
    {
     "name": "stdout",
     "output_type": "stream",
     "text": [
      "9\n"
     ]
    }
   ],
   "source": [
    "a=[1,2,3,4,5,6,7,8,9]\n",
    "print(max(a))"
   ]
  },
  {
   "cell_type": "code",
   "execution_count": 23,
   "id": "e8b78bf3",
   "metadata": {},
   "outputs": [
    {
     "name": "stdout",
     "output_type": "stream",
     "text": [
      "1\n"
     ]
    }
   ],
   "source": [
    "a=[1,2,3,4,5,6,7,8,9]\n",
    "minimum=a[0]\n",
    "for num in a:\n",
    "    if num<minimum:\n",
    "        minimum=num\n",
    "print(minimum)"
   ]
  },
  {
   "cell_type": "code",
   "execution_count": 24,
   "id": "1a12be21",
   "metadata": {},
   "outputs": [
    {
     "name": "stdout",
     "output_type": "stream",
     "text": [
      "1\n"
     ]
    }
   ],
   "source": [
    "a=[1,2,3,4,5,6,7,8,9]\n",
    "print(min(a))"
   ]
  },
  {
   "cell_type": "code",
   "execution_count": 27,
   "id": "60eed739",
   "metadata": {},
   "outputs": [
    {
     "name": "stdout",
     "output_type": "stream",
     "text": [
      "25\n",
      "20\n"
     ]
    }
   ],
   "source": [
    "a=[1,2,3,4,5,6,7,8,9]\n",
    "evensum=0\n",
    "oddsum=0\n",
    "for i,num in enumerate(a):\n",
    "    if i%2==0:\n",
    "        evensum+=num\n",
    "    else:\n",
    "        oddsum+=num\n",
    "print(evensum)\n",
    "print(oddsum)"
   ]
  },
  {
   "cell_type": "code",
   "execution_count": 28,
   "id": "4b026559",
   "metadata": {},
   "outputs": [
    {
     "name": "stdout",
     "output_type": "stream",
     "text": [
      "25\n",
      "384\n"
     ]
    }
   ],
   "source": [
    "a=[1,2,3,4,5,6,7,8,9]\n",
    "evensum=0\n",
    "oddsum=1\n",
    "for i,num in enumerate(a):\n",
    "    if i%2==0:\n",
    "        evensum+=num\n",
    "    else:\n",
    "        oddsum*=num\n",
    "print(evensum)\n",
    "print(oddsum)"
   ]
  },
  {
   "cell_type": "code",
   "execution_count": 31,
   "id": "74b85234",
   "metadata": {},
   "outputs": [
    {
     "name": "stdout",
     "output_type": "stream",
     "text": [
      "10\n"
     ]
    }
   ],
   "source": [
    "a=[10,12,3,2,4]\n",
    "evenmax=a[0]\n",
    "for i,num in enumerate(a):\n",
    "    if i%2==0:\n",
    "        if num>evenmax:\n",
    "            evenmax=num     #even index\n",
    "print(evenmax)"
   ]
  },
  {
   "cell_type": "code",
   "execution_count": 33,
   "id": "15d620f8",
   "metadata": {},
   "outputs": [
    {
     "name": "stdout",
     "output_type": "stream",
     "text": [
      "2\n"
     ]
    }
   ],
   "source": [
    "a=[10,12,3,2,4]\n",
    "oddmin=a[1]\n",
    "for i,num in enumerate(a):\n",
    "    if i%2!=0:\n",
    "        if num<oddmin:\n",
    "            oddmin=num            #odd ndex \n",
    "print(oddmin)"
   ]
  },
  {
   "cell_type": "code",
   "execution_count": 39,
   "id": "57ac747a",
   "metadata": {},
   "outputs": [
    {
     "name": "stdout",
     "output_type": "stream",
     "text": [
      "enter the elements4\n",
      "enter the items1\n",
      "enter the items2\n",
      "enter the items3\n",
      "enter the items4\n",
      "[1, 2, 3, 4]\n",
      "4\n"
     ]
    }
   ],
   "source": [
    "#read the number from \n",
    "\n",
    "n=int(input(\"enter the elements\"))\n",
    "a=[]\n",
    "\n",
    "for i in range(n):\n",
    "    item=int(input(\"enter the items\"))                #enumate should be use with list or string not with int\n",
    "    a.append(item)\n",
    "maximum=a[0]\n",
    "for num in range(len(a)):\n",
    "    if a[num]>maximum:\n",
    "        maximum=a[num]\n",
    "print(a)\n",
    "print(maximum)"
   ]
  },
  {
   "cell_type": "code",
   "execution_count": 40,
   "id": "79c4b209",
   "metadata": {},
   "outputs": [
    {
     "name": "stdout",
     "output_type": "stream",
     "text": [
      "enter the elements4\n",
      "enter the items1\n",
      "enter the items2\n",
      "enter the items3\n",
      "enter the items4\n",
      "[1, 2, 3, 4]\n",
      "1\n"
     ]
    }
   ],
   "source": [
    "n=int(input(\"enter the elements\"))\n",
    "a=[]\n",
    "\n",
    "for i in range(n):\n",
    "    item=int(input(\"enter the items\"))                #enumate should be use with list or string not with int\n",
    "    a.append(item)\n",
    "minimum=a[1]\n",
    "for num in a:\n",
    "    if num<minimum:\n",
    "        minimum=num\n",
    "print(a)\n",
    "print(minimum)"
   ]
  },
  {
   "cell_type": "code",
   "execution_count": 47,
   "id": "0f63e12d",
   "metadata": {},
   "outputs": [
    {
     "name": "stdout",
     "output_type": "stream",
     "text": [
      "enter the n14\n",
      "enter the items1\n",
      "enter the items2\n",
      "enter the items3\n",
      "enter the items4\n",
      "neter the n24\n",
      "enter the items2\n",
      "enter the items3\n",
      "enter the items4\n",
      "enter the items5\n",
      "[1, 2, 3, 4]\n",
      "\n",
      "[2, 3, 4, 5]\n",
      "\n",
      "[3, 5, 7, 9]\n",
      "9\n"
     ]
    }
   ],
   "source": [
    "n1=int(input(\"enter the n1\"))\n",
    "a=[]\n",
    "for i in range(n1):\n",
    "    item=int(input(\"enter the items\"))\n",
    "    a.append(item)\n",
    "    \n",
    "n2=int(input(\"neter the n2\"))\n",
    "b=[]\n",
    "for i in range(n2):\n",
    "    item=int(input(\"enter the items\"))\n",
    "    b.append(item)\n",
    "c=[]\n",
    "for i in range(len(a)):\n",
    "    c.append(a[i]+b[i])\n",
    "# print(a)\n",
    "# print()\n",
    "# print(b)\n",
    "# print()\n",
    "# print(c)\n",
    "maximum=c[0]\n",
    "for num in c:\n",
    "    if num>maximum:\n",
    "        maximum=num\n",
    "print(maximum)\n",
    "        "
   ]
  },
  {
   "cell_type": "code",
   "execution_count": 53,
   "id": "9e5bee6c",
   "metadata": {},
   "outputs": [
    {
     "name": "stdout",
     "output_type": "stream",
     "text": [
      "enterthe number4\n",
      "enter the items1\n",
      "enter the items2\n",
      "enter the items3\n",
      "enter the items4\n",
      "[1, 2, 3, 4]\n",
      "[1, 3]\n",
      "[2, 4]\n"
     ]
    }
   ],
   "source": [
    "num=int(input(\"enterthe number\"))\n",
    "a=[]\n",
    "for i in range (num):\n",
    "    item=int(input(\"enter the items\"))\n",
    "    a.append(item)\n",
    "even=[]\n",
    "odd=[]\n",
    "for i,num in enumerate(a):\n",
    "    if i%2==0:\n",
    "        even.append(num)\n",
    "    else:\n",
    "        odd.append(num)\n",
    "    \n",
    "    \n",
    "print(a)\n",
    "print(even)\n",
    "print(odd)          # finding the indexes\n"
   ]
  },
  {
   "cell_type": "code",
   "execution_count": 54,
   "id": "a82c1bd6",
   "metadata": {},
   "outputs": [
    {
     "name": "stdout",
     "output_type": "stream",
     "text": [
      "enterthe number4\n",
      "enter the items1\n",
      "enter the items2\n",
      "enter the items2\n",
      "enter the items2\n",
      "enter the number2\n",
      "[1, 2, 2, 2]\n",
      "3\n"
     ]
    }
   ],
   "source": [
    "num=int(input(\"enterthe number\"))\n",
    "a=[]\n",
    "for i in range (num):\n",
    "    item=int(input(\"enter the items\"))\n",
    "    a.append(item)\n",
    "n=int(input(\"enter the number\"))\n",
    "count=0\n",
    "for num in a:\n",
    "    if num==n:\n",
    "        count+=1\n",
    "print(a)\n",
    "print(count)\n"
   ]
  },
  {
   "cell_type": "code",
   "execution_count": 58,
   "id": "6fd1c72d",
   "metadata": {},
   "outputs": [
    {
     "name": "stdout",
     "output_type": "stream",
     "text": [
      "enter the stings4\n",
      "enter the itemssugar\n",
      "enter the itemssalt\n",
      "enter the itemshoney\n",
      "enter the itemsbiscuits\n",
      "['sugar', 'salt', 'honey', 'biscuits']\n",
      " sugar salt honey biscuits \n"
     ]
    }
   ],
   "source": [
    "n=int(input(\"enter the stings\"))\n",
    "a=[]\n",
    "for i in range(n):\n",
    "    item=input(\"enter the items\")\n",
    "    a.append(item)\n",
    "print(a)\n",
    "store=\" \"\n",
    "for string in a:\n",
    "    store+=string + \" \"\n",
    "print(store)"
   ]
  },
  {
   "cell_type": "code",
   "execution_count": null,
   "id": "9dbd8a2d",
   "metadata": {},
   "outputs": [],
   "source": []
  }
 ],
 "metadata": {
  "kernelspec": {
   "display_name": "Python 3 (ipykernel)",
   "language": "python",
   "name": "python3"
  },
  "language_info": {
   "codemirror_mode": {
    "name": "ipython",
    "version": 3
   },
   "file_extension": ".py",
   "mimetype": "text/x-python",
   "name": "python",
   "nbconvert_exporter": "python",
   "pygments_lexer": "ipython3",
   "version": "3.9.12"
  }
 },
 "nbformat": 4,
 "nbformat_minor": 5
}
