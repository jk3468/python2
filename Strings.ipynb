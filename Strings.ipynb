{
 "cells": [
  {
   "cell_type": "code",
   "execution_count": 4,
   "id": "b0bc45d2",
   "metadata": {},
   "outputs": [
    {
     "name": "stdout",
     "output_type": "stream",
     "text": [
      "enter the namerakshith\n",
      "2\n"
     ]
    }
   ],
   "source": [
    "name=input(\"enter the name\")\n",
    "count=0\n",
    "for i in range(0,len(name),1):\n",
    "    if name[i]==\"a\" or name[i]==\"e\" or name[i]==\"i\" or name[i]==\"o\" or name[i]==\"u\":\n",
    "        count+=1\n",
    "print(count)"
   ]
  },
  {
   "cell_type": "code",
   "execution_count": 7,
   "id": "558f8009",
   "metadata": {},
   "outputs": [
    {
     "name": "stdout",
     "output_type": "stream",
     "text": [
      "enter the namerakesh\n",
      "r\n",
      "k\n",
      "s\n",
      "rakesh\n"
     ]
    }
   ],
   "source": [
    "#read the name of user even index character\n",
    "name=input(\"enter the name\")\n",
    "for i in range(0,len(name),2):\n",
    "    print(name[i])\n",
    "\n"
   ]
  },
  {
   "cell_type": "code",
   "execution_count": 8,
   "id": "59fc6cad",
   "metadata": {},
   "outputs": [
    {
     "name": "stdout",
     "output_type": "stream",
     "text": [
      "enter the namerakesh\n",
      "a\n",
      "e\n",
      "h\n"
     ]
    }
   ],
   "source": [
    "#read the number from user and find the odd character\n",
    "name=input(\"enter the name\")\n",
    "for i in range(1,len(name),2):\n",
    "    print(name[i])\n",
    "    "
   ]
  },
  {
   "cell_type": "code",
   "execution_count": 13,
   "id": "d23934ce",
   "metadata": {},
   "outputs": [
    {
     "name": "stdout",
     "output_type": "stream",
     "text": [
      "enter the nameaakash\n",
      "1\n"
     ]
    }
   ],
   "source": [
    "#read the string frm user and count vowels in the even index(place)\n",
    "name=input(\"enter the name\")\n",
    "count=0\n",
    "for i in range(0,len(name),2):\n",
    "    if name[i]==\"a\" or name[i]==\"e\" or name[i]==\"i\" or name[i]==\"o\" or name[i]==\"u\":\n",
    "        count+=1\n",
    "print(count)"
   ]
  },
  {
   "cell_type": "code",
   "execution_count": 15,
   "id": "2adf81a7",
   "metadata": {},
   "outputs": [
    {
     "name": "stdout",
     "output_type": "stream",
     "text": [
      "enter the namerakesh\n",
      "2\n"
     ]
    }
   ],
   "source": [
    "name=input(\"enter the name\")\n",
    "count=0\n",
    "for i in range(1,len(name),2):\n",
    "    if name[i]==\"a\" or name[i]==\"e\" or name[i]==\"i\" or name[i]==\"o\" or name[i]==\"u\":\n",
    "        count+=1\n",
    "print(count)"
   ]
  },
  {
   "cell_type": "code",
   "execution_count": 16,
   "id": "f7f92d2f",
   "metadata": {},
   "outputs": [
    {
     "name": "stdout",
     "output_type": "stream",
     "text": [
      "enter the namerakesh\n",
      "h\n",
      "s\n",
      "e\n",
      "k\n",
      "a\n",
      "r\n"
     ]
    }
   ],
   "source": [
    "name=input(\"enter the name\")\n",
    "for i in range(len(name)-1,-1,-1): #last index  len(name)-1\n",
    "    print(name[i])"
   ]
  },
  {
   "cell_type": "code",
   "execution_count": 17,
   "id": "5e248040",
   "metadata": {},
   "outputs": [
    {
     "name": "stdout",
     "output_type": "stream",
     "text": [
      "enter the namerakesh\n",
      "r\n",
      "ra\n",
      "rak\n",
      "rake\n",
      "rakes\n",
      "rakesh\n"
     ]
    }
   ],
   "source": [
    "name=input(\"enter the name\")\n",
    "for i in range(0,len(name),1):\n",
    "    print(name[0:i+1])"
   ]
  },
  {
   "cell_type": "code",
   "execution_count": null,
   "id": "ad782eab",
   "metadata": {},
   "outputs": [],
   "source": []
  }
 ],
 "metadata": {
  "kernelspec": {
   "display_name": "Python 3 (ipykernel)",
   "language": "python",
   "name": "python3"
  },
  "language_info": {
   "codemirror_mode": {
    "name": "ipython",
    "version": 3
   },
   "file_extension": ".py",
   "mimetype": "text/x-python",
   "name": "python",
   "nbconvert_exporter": "python",
   "pygments_lexer": "ipython3",
   "version": "3.9.12"
  }
 },
 "nbformat": 4,
 "nbformat_minor": 5
}
